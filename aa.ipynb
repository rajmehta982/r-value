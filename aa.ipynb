{
 "cells": [
  {
   "cell_type": "code",
   "execution_count": null,
   "metadata": {},
   "outputs": [],
   "source": [
    "import numpy as np\n",
    "import pandas as pd\n",
    "\n",
    "\n",
    "initial_asset_class_weights = {\n",
    "    'Equity': 0.4,         # 40% allocation to Equity\n",
    "    'Cryptocurrency': 0.1, # 10% allocation to Cryptocurrency\n",
    "    'Gold': 0.15,          # 15% allocation to Gold\n",
    "    'Bonds': 0.25,         # 25% allocation to Bonds\n",
    "}\n",
    "\n",
    "def allocate_asset_level(initial_asset_class_weights, initial_weights):\n",
    "    \"\"\"\n",
    "    Allocate weights at the asset level based on initial weights.\n",
    "    \"\"\"\n",
    "    asset_weights = {}\n",
    "    for asset in asset_classes.keys():\n",
    "        # Get the weight for each top-level asset class\n",
    "        asset_weight = initial_weights.get(asset, 0)\n",
    "        asset_weights[asset] = asset_weight\n",
    "    return asset_weights\n",
    "\n",
    "\n",
    "\n",
    "\n"
   ]
  }
 ],
 "metadata": {
  "language_info": {
   "name": "python"
  }
 },
 "nbformat": 4,
 "nbformat_minor": 2
}
